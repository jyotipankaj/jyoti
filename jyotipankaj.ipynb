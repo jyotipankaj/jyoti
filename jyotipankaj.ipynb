{
 "cells": [
  {
   "cell_type": "code",
   "execution_count": null,
   "id": "a793582a-be68-4fc4-acb9-7850d21a66ba",
   "metadata": {},
   "outputs": [],
   "source": [
    "Q1 What is python , and why is popular?"
   ]
  },
  {
   "cell_type": "code",
   "execution_count": null,
   "id": "4ba6edca-9790-4fbc-bc93-7e3fdef2b76b",
   "metadata": {},
   "outputs": [],
   "source": [
    "ans. python is a high level interpreted programming language.\n",
    "python's popularity can be attributed to several factors:\n",
    "1- simplicity and readability\n",
    "2-high level language\n",
    "3-wide range of applications\n",
    "4-large community\n",
    "5-free and open source\n",
    "6-rapid development"
   ]
  },
  {
   "cell_type": "code",
   "execution_count": null,
   "id": "bcc801bd-cfc9-4a75-8b40-1b46e9e9fbe4",
   "metadata": {},
   "outputs": [],
   "source": [
    "Q2. what is an interpreter in python?"
   ]
  },
  {
   "cell_type": "code",
   "execution_count": null,
   "id": "59bb409c-a7af-4a0c-9625-c2e13ab5cad6",
   "metadata": {},
   "outputs": [],
   "source": [
    "ans. in python an interpreter is a program that reads and executes python code line by line.it's like a translatur that converts the python code into \n",
    "machine code that the computer can understand.\n",
    "overall the python interpreter plays a crucial role in executing python code and providinga flexible and dynamic programming environment."
   ]
  },
  {
   "cell_type": "code",
   "execution_count": null,
   "id": "87811ea2-78d7-406f-ae2e-7ae2406c2165",
   "metadata": {},
   "outputs": [],
   "source": [
    "Q3. what are pre -defined keywords in python?"
   ]
  },
  {
   "cell_type": "code",
   "execution_count": null,
   "id": "83a72d12-3b63-46d2-8c8f-9dcc906ac82a",
   "metadata": {},
   "outputs": [],
   "source": [
    "ans. and ,del,elif,else,except,finally,far,as,break,class,asserd,continue,from,global,if,impart,in,is,lamda,nonlocal,not,or\n",
    "pass,raise,return,try,while,with,yield,true,false,none."
   ]
  },
  {
   "cell_type": "code",
   "execution_count": null,
   "id": "2e685e75-9050-4b88-930d-d1712d781005",
   "metadata": {},
   "outputs": [],
   "source": [
    "Q4. can keywords be used as variable names?"
   ]
  },
  {
   "cell_type": "code",
   "execution_count": null,
   "id": "9f520efe-1ed0-43ff-98df-93d8e19d38c6",
   "metadata": {},
   "outputs": [],
   "source": [
    "ans. no in python keywords cannot be used as variable names . keywords are reserved words in python language and they have special\n",
    "meaning and funcation "
   ]
  },
  {
   "cell_type": "code",
   "execution_count": null,
   "id": "ddb4554d-adc9-4ec7-829b-2603c0ca6827",
   "metadata": {},
   "outputs": [],
   "source": [
    "Q5. what is mutability in python?"
   ]
  },
  {
   "cell_type": "code",
   "execution_count": null,
   "id": "7aa5cc49-a173-4575-96fa-ec0aaaa89ab1",
   "metadata": {},
   "outputs": [],
   "source": [
    "ans. mutability in python refers to the ability of an object to change its value . in python there are two types of object-\n",
    "1- mutable objects\n",
    "2-immutable objects"
   ]
  },
  {
   "cell_type": "code",
   "execution_count": null,
   "id": "5cf026b7-c3ba-4c44-b8d8-ba8b41e83dbc",
   "metadata": {},
   "outputs": [],
   "source": [
    "Q6. why are lists mutable but tuples are immutable?"
   ]
  },
  {
   "cell_type": "code",
   "execution_count": null,
   "id": "f79e6032-c0b0-4440-b6c3-1008003e4ad4",
   "metadata": {},
   "outputs": [],
   "source": [
    "ans. reasons why lists are mutable:\n",
    "1-flexibility\n",
    "2-efficiency\n",
    "3-use-feriendliness \n",
    "reasons why typles are immutable:\n",
    "1-security\n",
    "2-hashability\n",
    "3-perfarmance"
   ]
  },
  {
   "cell_type": "code",
   "execution_count": null,
   "id": "cc044570-d8d6-44b9-beb7-8e1c935a1242",
   "metadata": {},
   "outputs": [],
   "source": [
    "Q7.what is the difference between\"==\" and \"is\" operators in python?"
   ]
  },
  {
   "cell_type": "code",
   "execution_count": null,
   "id": "3b04fc92-1e9b-4e72-b17d-259fa9aa65d9",
   "metadata": {},
   "outputs": [],
   "source": [
    "ans. == operator (equality operator)\n",
    "the == operator checks whether the values of two objects are equal. it compares the values of the objects not their identities.\n",
    "in other words it checks whether the objects have the same value, but they canbe different objects:\n",
    "ex-\n",
    "a=[1,2,3]\n",
    "b= [1,2,3]\n",
    "print (a==b) # true\n",
    "is operator( identity operator)\n",
    "the is operator checks whether two objects are the same object in memory. it compares the identities of the objects,not their values.\n",
    "in other words it checks whether the objects are the same instance.\n",
    "    ex:\n",
    "a=[1,2,3]\n",
    "b=[1,2,3]\n",
    "print (a is b) # false\n",
    "    "
   ]
  },
  {
   "cell_type": "code",
   "execution_count": null,
   "id": "295a5131-f71d-44ff-82ef-44eafc37e2c5",
   "metadata": {},
   "outputs": [],
   "source": [
    "Q8 what are logical operators in python?"
   ]
  },
  {
   "cell_type": "code",
   "execution_count": null,
   "id": "c4a674a5-f5b0-4395-8a59-981825375b0d",
   "metadata": {},
   "outputs": [],
   "source": [
    "ans.logical operators are used in python to combiler two or more boolean values to produce a new boolean value.\n",
    "3types of logical operators\n",
    "1- and 2- or 3- not"
   ]
  },
  {
   "cell_type": "code",
   "execution_count": null,
   "id": "75a1161f-4fb2-473a-be05-87d4e3a28fda",
   "metadata": {},
   "outputs": [],
   "source": [
    "Q9. what is type casting in python ?"
   ]
  },
  {
   "cell_type": "code",
   "execution_count": null,
   "id": "449a643c-d6a7-428c-8b69-d81065d83b1c",
   "metadata": {},
   "outputs": [],
   "source": [
    "ans. type casting in python is the process of converting a data type into another data type.\n",
    "two types of type casting in python \n",
    "1-implicit type casting \n",
    "2-explicit type casting"
   ]
  },
  {
   "cell_type": "code",
   "execution_count": null,
   "id": "0cb55280-8ec4-4c7a-88eb-6a5334f937a2",
   "metadata": {},
   "outputs": [],
   "source": [
    "Q10. what is difference between implicit and explicit type casting ?"
   ]
  },
  {
   "cell_type": "code",
   "execution_count": null,
   "id": "4312e93a-8d09-4e81-8c0f-d3409373aae0",
   "metadata": {},
   "outputs": [],
   "source": [
    "ans. implicit type casting is automatic and may lead to data lose ,while explicit type casting is manual and gives the \n",
    "programmer more control.over the type conversion process ."
   ]
  },
  {
   "cell_type": "code",
   "execution_count": null,
   "id": "d7b11843-4ee7-4697-a54d-72e0df895599",
   "metadata": {},
   "outputs": [],
   "source": [
    "Q11. what is the purpose of conditional statements in python?"
   ]
  },
  {
   "cell_type": "code",
   "execution_count": null,
   "id": "8fb2442a-6d48-4033-80ec-450ed834df32",
   "metadata": {},
   "outputs": [],
   "source": [
    "conditional statements in python play crucial role in comtrolling the flow of a program based on various conditions \n",
    "the purpose of conditional statements are :\n",
    "1-decision-making \n",
    "2-controlling the program flow \n",
    "3-performing different actions in different situations ."
   ]
  },
  {
   "cell_type": "code",
   "execution_count": null,
   "id": "ca73d489-3518-4517-823d-00e63a4c0066",
   "metadata": {},
   "outputs": [],
   "source": [
    "Q12. how does the elif statement work ?"
   ]
  },
  {
   "cell_type": "code",
   "execution_count": null,
   "id": "541cf0a2-bfc8-433d-b38e-1d2c640b6e32",
   "metadata": {},
   "outputs": [],
   "source": [
    "ans. the elif statement in python is a combination of if and else statements . it allows you to check multiple conditions \n",
    "and execute different blocks of code based on these conditions \n",
    "    ex: \n",
    "    x=5\n",
    "if x>10:\n",
    "    print (\"x is greater than 10\")\n",
    "elif x==5:\n",
    "    print (\" x is equal to 5\")\n",
    "else:\n",
    "    print (\" x is less than 5\")\n",
    "    in this example the output would be \"x is equal to 5\" bcz the second condition\n",
    "    (x==5) is true\n",
    "    "
   ]
  },
  {
   "cell_type": "code",
   "execution_count": null,
   "id": "93b8211e-c86f-40ad-9249-e0de15599310",
   "metadata": {},
   "outputs": [],
   "source": [
    "Q13. what is the difference between for and while loops?"
   ]
  },
  {
   "cell_type": "code",
   "execution_count": null,
   "id": "88622e0a-f97e-45f6-9a39-bf8700832a4d",
   "metadata": {},
   "outputs": [],
   "source": [
    "ans. the main difference between these two loops is that for loop iterates a fixed number of times, while loop iteates a fixed number of times.\n",
    "while loop iterates an indeterminate number of times based on a condition.\n",
    "    while loop syntax is : while\n",
    "for loop syntx is : for\n"
   ]
  },
  {
   "cell_type": "code",
   "execution_count": null,
   "id": "c302f0ca-96ff-4ec5-9691-9679bcc820d2",
   "metadata": {},
   "outputs": [],
   "source": [
    "Q14. descaribe a scenario where a while loop is more suitable than a for loop?"
   ]
  },
  {
   "cell_type": "code",
   "execution_count": null,
   "id": "834fb7ea-614d-4a0e-91fe-f3f044e3ba9c",
   "metadata": {},
   "outputs": [],
   "source": [
    "ans. a scenario where a while loop is more suitable than a for loop:\n",
    "suppose we want to replenish a bank  account balance until it exceeds a certain limit.\n",
    "                                                          we don't know how many times we need to replenish the account, as it depends on the current \n",
    "                                                          balance.\n",
    "                                                          in this scenario a while loop is more suitable bcz\n",
    "                                                          the while loop checks the balance and  repeats the replenishment process\n",
    "                                                          until the balance exceeds the limit.\n",
    "                                                          "
   ]
  },
  {
   "cell_type": "code",
   "execution_count": null,
   "id": "32798309-e579-427d-9729-1f5f5dcdf0e6",
   "metadata": {},
   "outputs": [],
   "source": []
  },
  {
   "cell_type": "code",
   "execution_count": null,
   "id": "7f977f4c-1b9f-409f-9846-d0422ece149f",
   "metadata": {},
   "outputs": [],
   "source": []
  },
  {
   "cell_type": "code",
   "execution_count": 5,
   "id": "577325ab-7e21-4c8c-88e3-d3536214b066",
   "metadata": {},
   "outputs": [],
   "source": [
    "###\"practical questions\""
   ]
  },
  {
   "cell_type": "code",
   "execution_count": null,
   "id": "f31bf23d-7a12-48ac-a6a1-39ec7b3d1bcc",
   "metadata": {},
   "outputs": [],
   "source": []
  },
  {
   "cell_type": "code",
   "execution_count": null,
   "id": "2a75d517-ecb6-4c82-ac2a-1204bea38fb6",
   "metadata": {},
   "outputs": [],
   "source": [
    "Q1. write a python program to print \"hello world!\""
   ]
  },
  {
   "cell_type": "code",
   "execution_count": 6,
   "id": "0e5900d9-1faa-4f82-bfeb-c4a4c992047b",
   "metadata": {},
   "outputs": [
    {
     "name": "stdout",
     "output_type": "stream",
     "text": [
      "hello world!\n"
     ]
    }
   ],
   "source": [
    "print (\"hello world!\")"
   ]
  },
  {
   "cell_type": "code",
   "execution_count": null,
   "id": "9c48ba2b-04e0-4c92-a3b3-84d881ad7de6",
   "metadata": {},
   "outputs": [],
   "source": [
    "Q2. write a python program that displays your name and age."
   ]
  },
  {
   "cell_type": "code",
   "execution_count": 8,
   "id": "64e3e687-7ba5-408b-81d9-bff6ae303e97",
   "metadata": {},
   "outputs": [
    {
     "name": "stdin",
     "output_type": "stream",
     "text": [
      "enter your name jyoti prajapat\n"
     ]
    },
    {
     "name": "stdout",
     "output_type": "stream",
     "text": [
      "my name is\n"
     ]
    }
   ],
   "source": [
    "input(\"enter your name\")\n",
    "print (\"my name is\")"
   ]
  },
  {
   "cell_type": "code",
   "execution_count": 9,
   "id": "4cc55e94-3f1a-495c-810a-831c744fa950",
   "metadata": {},
   "outputs": [
    {
     "name": "stdin",
     "output_type": "stream",
     "text": [
      "enter your age is 26  \n"
     ]
    },
    {
     "name": "stdout",
     "output_type": "stream",
     "text": [
      "my age is\n"
     ]
    }
   ],
   "source": [
    "input(\"enter your age is\")\n",
    "print (\"my age is\")"
   ]
  },
  {
   "cell_type": "code",
   "execution_count": null,
   "id": "42bbb4b1-6127-4ae7-9646-f6b0f0622155",
   "metadata": {},
   "outputs": [],
   "source": [
    "Q3. write code to print all the pre-definds keywords in python using the keyword library."
   ]
  },
  {
   "cell_type": "code",
   "execution_count": 10,
   "id": "9f06736a-fb17-4d2b-bd26-85721964bba1",
   "metadata": {},
   "outputs": [
    {
     "name": "stdout",
     "output_type": "stream",
     "text": [
      "\n",
      "Here is a list of the Python keywords.  Enter any keyword to get more help.\n",
      "\n",
      "False               class               from                or\n",
      "None                continue            global              pass\n",
      "True                def                 if                  raise\n",
      "and                 del                 import              return\n",
      "as                  elif                in                  try\n",
      "assert              else                is                  while\n",
      "async               except              lambda              with\n",
      "await               finally             nonlocal            yield\n",
      "break               for                 not                 \n",
      "\n"
     ]
    }
   ],
   "source": [
    "help(\"keywords\")"
   ]
  },
  {
   "cell_type": "code",
   "execution_count": null,
   "id": "22305d5f-11ab-4e77-8f22-ac4037da4331",
   "metadata": {},
   "outputs": [],
   "source": [
    "Q4. write a program that checks if a given word is a python keyword."
   ]
  },
  {
   "cell_type": "code",
   "execution_count": null,
   "id": "b0550ad8-aa02-45cf-aac0-69a619d84184",
   "metadata": {},
   "outputs": [],
   "source": [
    "ans. \n",
    "import keyword\n",
    "word= input(\"enter a word\")\n",
    "if keyword iskeyword(word):\n",
    "print (word, \" is a python keyword.\")\n",
    "else:\n",
    "print(word, \" is not a python keyword\")"
   ]
  },
  {
   "cell_type": "code",
   "execution_count": null,
   "id": "a704617d-e63d-4a55-b92b-ca71af20fcba",
   "metadata": {},
   "outputs": [],
   "source": [
    "Q5. creat a list and tuple in python, and demonstrate how attempting to change an element works differently for each?"
   ]
  },
  {
   "cell_type": "code",
   "execution_count": 11,
   "id": "9d1104fa-f3b3-47c3-a64f-0c87a621e005",
   "metadata": {},
   "outputs": [
    {
     "name": "stdout",
     "output_type": "stream",
     "text": [
      "[1, 2, 3, 4]\n"
     ]
    }
   ],
   "source": [
    "my_list=[1,2,3,4]\n",
    "print(my_list)"
   ]
  },
  {
   "cell_type": "code",
   "execution_count": 12,
   "id": "b44edecc-9d1b-4782-8b30-5c77d13991b9",
   "metadata": {},
   "outputs": [
    {
     "name": "stdout",
     "output_type": "stream",
     "text": [
      "[10, 2, 3, 4]\n"
     ]
    }
   ],
   "source": [
    "my_list[0]=10\n",
    "print(my_list)"
   ]
  },
  {
   "cell_type": "code",
   "execution_count": 13,
   "id": "45fe931b-c59f-4eff-85cf-c135762b03db",
   "metadata": {},
   "outputs": [
    {
     "name": "stdout",
     "output_type": "stream",
     "text": [
      "(1, 2, 3, 4)\n"
     ]
    }
   ],
   "source": [
    "# tuple\n",
    "my_tuple=(1,2,3,4)\n",
    "print(my_tuple)"
   ]
  },
  {
   "cell_type": "code",
   "execution_count": 14,
   "id": "c7319bda-9461-41db-90ae-bce05da8ac72",
   "metadata": {},
   "outputs": [
    {
     "ename": "TypeError",
     "evalue": "'tuple' object does not support item assignment",
     "output_type": "error",
     "traceback": [
      "\u001b[1;31m---------------------------------------------------------------------------\u001b[0m",
      "\u001b[1;31mTypeError\u001b[0m                                 Traceback (most recent call last)",
      "Cell \u001b[1;32mIn[14], line 1\u001b[0m\n\u001b[1;32m----> 1\u001b[0m my_tuple[\u001b[38;5;241m0\u001b[39m]\u001b[38;5;241m=\u001b[39m\u001b[38;5;241m10\u001b[39m\n\u001b[0;32m      2\u001b[0m \u001b[38;5;28mprint\u001b[39m(my_tuple)\n",
      "\u001b[1;31mTypeError\u001b[0m: 'tuple' object does not support item assignment"
     ]
    }
   ],
   "source": [
    "my_tuple[0]=10\n",
    "print(my_tuple)"
   ]
  },
  {
   "cell_type": "code",
   "execution_count": null,
   "id": "1824004f-b1d3-4ac5-a46f-63934aac9c1d",
   "metadata": {},
   "outputs": [],
   "source": [
    "Q6. write a function to demonstrate the behavior of mutable and immutable arguments."
   ]
  },
  {
   "cell_type": "code",
   "execution_count": null,
   "id": "f0f8425a-ca70-4d22-ad28-7ef2f094d155",
   "metadata": {},
   "outputs": [],
   "source": [
    "ans #  behavior of mutable"
   ]
  },
  {
   "cell_type": "code",
   "execution_count": 15,
   "id": "cab60d82-05d4-4af1-86b0-b4dbfa9bbd2d",
   "metadata": {},
   "outputs": [
    {
     "data": {
      "text/plain": [
       "[1, 2, 3, 4.3, (3+5j), 'ajay']"
      ]
     },
     "execution_count": 15,
     "metadata": {},
     "output_type": "execute_result"
    }
   ],
   "source": [
    "list_cont=[1,2,3,4.3,3+5j,\"ajay\"]\n",
    "list_cont"
   ]
  },
  {
   "cell_type": "code",
   "execution_count": 16,
   "id": "91e36efe-5f1c-47b1-a63a-93a4259b3595",
   "metadata": {},
   "outputs": [
    {
     "data": {
      "text/plain": [
       "1"
      ]
     },
     "execution_count": 16,
     "metadata": {},
     "output_type": "execute_result"
    }
   ],
   "source": [
    "list_cont[0]"
   ]
  },
  {
   "cell_type": "code",
   "execution_count": 17,
   "id": "a371c036-c262-422a-87c4-d61d26386605",
   "metadata": {},
   "outputs": [],
   "source": [
    "list_cont[5]=\"bijay\""
   ]
  },
  {
   "cell_type": "code",
   "execution_count": 18,
   "id": "441239e2-e5e0-415d-a5c4-35356976feb6",
   "metadata": {},
   "outputs": [
    {
     "data": {
      "text/plain": [
       "[1, 2, 3, 4.3, (3+5j), 'bijay']"
      ]
     },
     "execution_count": 18,
     "metadata": {},
     "output_type": "execute_result"
    }
   ],
   "source": [
    "list_cont"
   ]
  },
  {
   "cell_type": "code",
   "execution_count": 19,
   "id": "21b61579-c992-45b4-b1b1-a9b4542ad95d",
   "metadata": {},
   "outputs": [],
   "source": [
    "list_cont[0]=100"
   ]
  },
  {
   "cell_type": "code",
   "execution_count": 20,
   "id": "c346c17b-0bb5-427d-93ad-79622626bd86",
   "metadata": {},
   "outputs": [
    {
     "data": {
      "text/plain": [
       "[100, 2, 3, 4.3, (3+5j), 'bijay']"
      ]
     },
     "execution_count": 20,
     "metadata": {},
     "output_type": "execute_result"
    }
   ],
   "source": [
    "list_cont"
   ]
  },
  {
   "cell_type": "code",
   "execution_count": null,
   "id": "c8a5562a-95ff-45c8-a8fe-dbdc42c88163",
   "metadata": {},
   "outputs": [],
   "source": [
    "#  behavior of immutable"
   ]
  },
  {
   "cell_type": "code",
   "execution_count": 21,
   "id": "de128e17-e424-4960-92d8-170468bb4cc1",
   "metadata": {},
   "outputs": [
    {
     "data": {
      "text/plain": [
       "'pwskills'"
      ]
     },
     "execution_count": 21,
     "metadata": {},
     "output_type": "execute_result"
    }
   ],
   "source": [
    "b=\"pwskills\"\n",
    "b"
   ]
  },
  {
   "cell_type": "code",
   "execution_count": 22,
   "id": "35bca278-38fd-4aee-ba32-007db5ab27a4",
   "metadata": {},
   "outputs": [
    {
     "data": {
      "text/plain": [
       "'p'"
      ]
     },
     "execution_count": 22,
     "metadata": {},
     "output_type": "execute_result"
    }
   ],
   "source": [
    "b[0]"
   ]
  },
  {
   "cell_type": "code",
   "execution_count": 23,
   "id": "d4a4c1db-e8f9-4525-9ae2-1615b950ce2c",
   "metadata": {},
   "outputs": [
    {
     "ename": "NameError",
     "evalue": "name 'a' is not defined",
     "output_type": "error",
     "traceback": [
      "\u001b[1;31m---------------------------------------------------------------------------\u001b[0m",
      "\u001b[1;31mNameError\u001b[0m                                 Traceback (most recent call last)",
      "Cell \u001b[1;32mIn[23], line 1\u001b[0m\n\u001b[1;32m----> 1\u001b[0m b[\u001b[38;5;241m0\u001b[39m]\u001b[38;5;241m=\u001b[39ma\n",
      "\u001b[1;31mNameError\u001b[0m: name 'a' is not defined"
     ]
    }
   ],
   "source": [
    "b[0]=a"
   ]
  },
  {
   "cell_type": "code",
   "execution_count": null,
   "id": "014fcd65-1959-444d-8537-1641257594b2",
   "metadata": {},
   "outputs": [],
   "source": [
    "Q7. write a function to demonstrate the behavior of mutable and immmutable arguments."
   ]
  },
  {
   "cell_type": "code",
   "execution_count": null,
   "id": "95a385de-4fe7-4358-b2e5-c0025f438029",
   "metadata": {},
   "outputs": [],
   "source": [
    "# behavior of mutable"
   ]
  },
  {
   "cell_type": "code",
   "execution_count": 24,
   "id": "80afce30-0ae4-4a05-abfc-50bced680699",
   "metadata": {},
   "outputs": [
    {
     "data": {
      "text/plain": [
       "[1, 2, 3, 4.3, (3+5j), 'jyoti']"
      ]
     },
     "execution_count": 24,
     "metadata": {},
     "output_type": "execute_result"
    }
   ],
   "source": [
    "list_cont=[1,2,3,4.3,3+5j,\"jyoti\"]\n",
    "list_cont"
   ]
  },
  {
   "cell_type": "code",
   "execution_count": 25,
   "id": "d9ddd906-3893-497b-b9db-c247d742d10f",
   "metadata": {},
   "outputs": [
    {
     "data": {
      "text/plain": [
       "'jyoti'"
      ]
     },
     "execution_count": 25,
     "metadata": {},
     "output_type": "execute_result"
    }
   ],
   "source": [
    "list_cont[5]"
   ]
  },
  {
   "cell_type": "code",
   "execution_count": 27,
   "id": "3408c60d-2b39-4e9f-9858-7f44f1a5b9c0",
   "metadata": {},
   "outputs": [],
   "source": [
    "list_cont[5]=\"pankaj\""
   ]
  },
  {
   "cell_type": "code",
   "execution_count": 28,
   "id": "05cd61b5-ccd7-40f4-8490-afc398866524",
   "metadata": {},
   "outputs": [
    {
     "data": {
      "text/plain": [
       "[1, 2, 3, 4.3, (3+5j), 'pankaj']"
      ]
     },
     "execution_count": 28,
     "metadata": {},
     "output_type": "execute_result"
    }
   ],
   "source": [
    "list_cont"
   ]
  },
  {
   "cell_type": "code",
   "execution_count": null,
   "id": "d259ecc4-b281-452a-8513-23148de7c301",
   "metadata": {},
   "outputs": [],
   "source": [
    "# behavior of immutable "
   ]
  },
  {
   "cell_type": "code",
   "execution_count": 29,
   "id": "83dd4900-794c-4462-9926-86f4ec49b85c",
   "metadata": {},
   "outputs": [
    {
     "data": {
      "text/plain": [
       "'pwskills'"
      ]
     },
     "execution_count": 29,
     "metadata": {},
     "output_type": "execute_result"
    }
   ],
   "source": [
    "a=\"pwskills\"\n",
    "a"
   ]
  },
  {
   "cell_type": "code",
   "execution_count": 30,
   "id": "3a79991c-4354-470a-b6c0-ed791cc4b088",
   "metadata": {},
   "outputs": [
    {
     "data": {
      "text/plain": [
       "'p'"
      ]
     },
     "execution_count": 30,
     "metadata": {},
     "output_type": "execute_result"
    }
   ],
   "source": [
    "a[0]"
   ]
  },
  {
   "cell_type": "code",
   "execution_count": 31,
   "id": "45cee35d-7030-4d72-97a4-4436fe03d746",
   "metadata": {},
   "outputs": [
    {
     "ename": "NameError",
     "evalue": "name 'k' is not defined",
     "output_type": "error",
     "traceback": [
      "\u001b[1;31m---------------------------------------------------------------------------\u001b[0m",
      "\u001b[1;31mNameError\u001b[0m                                 Traceback (most recent call last)",
      "Cell \u001b[1;32mIn[31], line 1\u001b[0m\n\u001b[1;32m----> 1\u001b[0m a[\u001b[38;5;241m1\u001b[39m]\u001b[38;5;241m=\u001b[39mk\n",
      "\u001b[1;31mNameError\u001b[0m: name 'k' is not defined"
     ]
    }
   ],
   "source": [
    "a[1]=k"
   ]
  },
  {
   "cell_type": "code",
   "execution_count": null,
   "id": "c1d54799-aa54-4f1e-a561-7f609610ad2a",
   "metadata": {},
   "outputs": [],
   "source": [
    "Q8. write a program to demonstrate the use of logical operators."
   ]
  },
  {
   "cell_type": "code",
   "execution_count": null,
   "id": "3ea211aa-101c-4526-adfa-2fcd75d7befc",
   "metadata": {},
   "outputs": [],
   "source": [
    "ans. special keywords to perform operators\n",
    "#arithmatic operators\n",
    "#modulus operator"
   ]
  },
  {
   "cell_type": "code",
   "execution_count": 33,
   "id": "acbe9258-c47d-4692-ad1d-4f672d4e2a2d",
   "metadata": {},
   "outputs": [
    {
     "data": {
      "text/plain": [
       "5"
      ]
     },
     "execution_count": 33,
     "metadata": {},
     "output_type": "execute_result"
    }
   ],
   "source": [
    "a=3\n",
    "b=2\n",
    "a+b"
   ]
  },
  {
   "cell_type": "code",
   "execution_count": 34,
   "id": "ef90baae-5583-4e61-946f-863ebccf17ea",
   "metadata": {},
   "outputs": [
    {
     "data": {
      "text/plain": [
       "5.0"
      ]
     },
     "execution_count": 34,
     "metadata": {},
     "output_type": "execute_result"
    }
   ],
   "source": [
    "20/4"
   ]
  },
  {
   "cell_type": "code",
   "execution_count": 35,
   "id": "58536f2e-d7bf-491e-a106-f7fce5c916dd",
   "metadata": {},
   "outputs": [
    {
     "data": {
      "text/plain": [
       "32"
      ]
     },
     "execution_count": 35,
     "metadata": {},
     "output_type": "execute_result"
    }
   ],
   "source": [
    "2**5"
   ]
  },
  {
   "cell_type": "code",
   "execution_count": 36,
   "id": "b2f32660-9570-42de-a15c-d6edf4722c7f",
   "metadata": {},
   "outputs": [
    {
     "data": {
      "text/plain": [
       "515377520732011331036461129765621272702107522001"
      ]
     },
     "execution_count": 36,
     "metadata": {},
     "output_type": "execute_result"
    }
   ],
   "source": [
    "3**100"
   ]
  },
  {
   "cell_type": "code",
   "execution_count": null,
   "id": "694d881d-6710-4821-8d8d-1f0f358cb4bb",
   "metadata": {},
   "outputs": [],
   "source": [
    "Q9.write a python program to convert user input fro, string to integer,float,and boolean types."
   ]
  },
  {
   "cell_type": "code",
   "execution_count": null,
   "id": "25af92ba-c361-4210-b9f3-912a442b6f1a",
   "metadata": {},
   "outputs": [],
   "source": [
    "ans."
   ]
  },
  {
   "cell_type": "code",
   "execution_count": 37,
   "id": "a2b7424f-f3f3-4825-b83a-6037173bc087",
   "metadata": {},
   "outputs": [
    {
     "data": {
      "text/plain": [
       "str"
      ]
     },
     "execution_count": 37,
     "metadata": {},
     "output_type": "execute_result"
    }
   ],
   "source": [
    "a=\"2\"\n",
    "type(a)"
   ]
  },
  {
   "cell_type": "code",
   "execution_count": 38,
   "id": "62ee6f90-5dbd-45ac-88b0-f5b89ff29a87",
   "metadata": {},
   "outputs": [
    {
     "data": {
      "text/plain": [
       "5"
      ]
     },
     "execution_count": 38,
     "metadata": {},
     "output_type": "execute_result"
    }
   ],
   "source": [
    "b=3\n",
    "int(a)+b"
   ]
  },
  {
   "cell_type": "code",
   "execution_count": 39,
   "id": "d51fe35b-60be-4044-bad7-562cc0471fcd",
   "metadata": {},
   "outputs": [
    {
     "data": {
      "text/plain": [
       "float"
      ]
     },
     "execution_count": 39,
     "metadata": {},
     "output_type": "execute_result"
    }
   ],
   "source": [
    "a=3.4\n",
    "type(a)"
   ]
  },
  {
   "cell_type": "code",
   "execution_count": 40,
   "id": "92c9b0a4-292a-4371-90eb-af5aa88eeea3",
   "metadata": {},
   "outputs": [
    {
     "data": {
      "text/plain": [
       "3"
      ]
     },
     "execution_count": 40,
     "metadata": {},
     "output_type": "execute_result"
    }
   ],
   "source": [
    "int(a)"
   ]
  },
  {
   "cell_type": "code",
   "execution_count": 41,
   "id": "decbf3dd-12a3-469c-8aa9-a6f4ca715fd3",
   "metadata": {},
   "outputs": [
    {
     "data": {
      "text/plain": [
       "int"
      ]
     },
     "execution_count": 41,
     "metadata": {},
     "output_type": "execute_result"
    }
   ],
   "source": [
    "a=2\n",
    "type(a)"
   ]
  },
  {
   "cell_type": "code",
   "execution_count": 42,
   "id": "9a853bae-78d9-4ede-a3b2-0a90e4fbc2be",
   "metadata": {},
   "outputs": [
    {
     "data": {
      "text/plain": [
       "2.0"
      ]
     },
     "execution_count": 42,
     "metadata": {},
     "output_type": "execute_result"
    }
   ],
   "source": [
    "b=float(a)\n",
    "b"
   ]
  },
  {
   "cell_type": "code",
   "execution_count": 43,
   "id": "35bb63dd-7d97-4995-ad12-7f479b5defb0",
   "metadata": {},
   "outputs": [
    {
     "data": {
      "text/plain": [
       "float"
      ]
     },
     "execution_count": 43,
     "metadata": {},
     "output_type": "execute_result"
    }
   ],
   "source": [
    "type(b)"
   ]
  },
  {
   "cell_type": "code",
   "execution_count": 44,
   "id": "738ef9c6-fae0-4886-be23-71dac4c2809f",
   "metadata": {},
   "outputs": [
    {
     "data": {
      "text/plain": [
       "str"
      ]
     },
     "execution_count": 44,
     "metadata": {},
     "output_type": "execute_result"
    }
   ],
   "source": [
    "a=\"2.3\"\n",
    "type(a)"
   ]
  },
  {
   "cell_type": "code",
   "execution_count": 45,
   "id": "c30ee550-725f-455f-b397-0253387c9d4b",
   "metadata": {},
   "outputs": [
    {
     "data": {
      "text/plain": [
       "float"
      ]
     },
     "execution_count": 45,
     "metadata": {},
     "output_type": "execute_result"
    }
   ],
   "source": [
    "b=float(a)\n",
    "type(b)"
   ]
  },
  {
   "cell_type": "code",
   "execution_count": null,
   "id": "97e2d5ac-bb0d-468c-b4f2-73d1fd56cbb3",
   "metadata": {},
   "outputs": [],
   "source": [
    "#bool"
   ]
  },
  {
   "cell_type": "code",
   "execution_count": 46,
   "id": "b06e2a82-da30-4222-9989-9bfe6ecc3622",
   "metadata": {},
   "outputs": [
    {
     "data": {
      "text/plain": [
       "False"
      ]
     },
     "execution_count": 46,
     "metadata": {},
     "output_type": "execute_result"
    }
   ],
   "source": [
    "bool(0)"
   ]
  },
  {
   "cell_type": "code",
   "execution_count": 48,
   "id": "b817e264-19fa-4618-a68e-c79098083f71",
   "metadata": {},
   "outputs": [
    {
     "data": {
      "text/plain": [
       "True"
      ]
     },
     "execution_count": 48,
     "metadata": {},
     "output_type": "execute_result"
    }
   ],
   "source": [
    "bool(1)"
   ]
  },
  {
   "cell_type": "code",
   "execution_count": 49,
   "id": "db819ce3-9a74-4c4c-bb18-e4b483ef83ca",
   "metadata": {},
   "outputs": [
    {
     "data": {
      "text/plain": [
       "True"
      ]
     },
     "execution_count": 49,
     "metadata": {},
     "output_type": "execute_result"
    }
   ],
   "source": [
    "bool(\"jyoti\")"
   ]
  },
  {
   "cell_type": "code",
   "execution_count": 50,
   "id": "29d525a1-fcc2-473c-90bb-7325abd4f1a7",
   "metadata": {},
   "outputs": [
    {
     "data": {
      "text/plain": [
       "False"
      ]
     },
     "execution_count": 50,
     "metadata": {},
     "output_type": "execute_result"
    }
   ],
   "source": [
    "bool(\"\")"
   ]
  },
  {
   "cell_type": "code",
   "execution_count": null,
   "id": "2c581498-be9a-409d-8fbc-da9ea56a4f6a",
   "metadata": {},
   "outputs": [],
   "source": [
    "Q10.write code to demonstrate type casting with list elements."
   ]
  },
  {
   "cell_type": "code",
   "execution_count": null,
   "id": "0b693782-97e3-4c43-9f5e-b6d744e94456",
   "metadata": {},
   "outputs": [],
   "source": [
    "ans"
   ]
  },
  {
   "cell_type": "code",
   "execution_count": 54,
   "id": "7519b69f-bfb0-4a58-8ad0-84b9e4a4a49e",
   "metadata": {},
   "outputs": [
    {
     "data": {
      "text/plain": [
       "[1, 2, 3, 'jyoti']"
      ]
     },
     "execution_count": 54,
     "metadata": {},
     "output_type": "execute_result"
    }
   ],
   "source": [
    "list_cont=[1,2,3,\"jyoti\"]\n",
    "list_cont"
   ]
  },
  {
   "cell_type": "code",
   "execution_count": 67,
   "id": "eb6331ed-9b2d-4f94-9bd4-8ae8944ae3a9",
   "metadata": {
    "collapsed": true,
    "jupyter": {
     "outputs_hidden": true
    }
   },
   "outputs": [
    {
     "ename": "SyntaxError",
     "evalue": "unmatched ')' (3058902365.py, line 5)",
     "output_type": "error",
     "traceback": [
      "\u001b[1;36m  Cell \u001b[1;32mIn[67], line 5\u001b[1;36m\u001b[0m\n\u001b[1;33m    enumerate9my_list):\u001b[0m\n\u001b[1;37m                     ^\u001b[0m\n\u001b[1;31mSyntaxError\u001b[0m\u001b[1;31m:\u001b[0m unmatched ')'\n"
     ]
    }
   ],
   "source": [
    "#create a list\n",
    "my_list=[1,2,3,4,5]\n",
    "print(\"type of list elements:\")\n",
    "for i, element in \n",
    "enumerate9my_list):\n",
    "    print(\"element{i+1}:\n",
    "          {type element)}\")\n",
    "          my_list_str=[str(element)for element in my_list]\n",
    "          for i, element in \n",
    "          enumerate(my_list_str):\n",
    "          print({i+1}:\n",
    "          {type(element)}\")"
   ]
  },
  {
   "cell_type": "code",
   "execution_count": null,
   "id": "84812407-9113-4ac4-8add-276e5ed9332d",
   "metadata": {},
   "outputs": [],
   "source": [
    "Q11.write a program that checks if a number is positive , negative,or zero."
   ]
  },
  {
   "cell_type": "code",
   "execution_count": null,
   "id": "02546835-91ae-4a17-9c18-e5069dd6efe0",
   "metadata": {},
   "outputs": [],
   "source": [
    "num=float(input(enter a number:\"))\n",
    "                if num>0:\n",
    "                elif num<0:\n",
    "                print(num,\"is negative.\")\n",
    "                else:\n",
    "\n",
    "                print(num,\" is zero\")"
   ]
  },
  {
   "cell_type": "code",
   "execution_count": null,
   "id": "8b768ecb-f41d-4682-8961-0c0bdf3a40fa",
   "metadata": {},
   "outputs": [],
   "source": [
    "Q12. write a for loop to print numbers from 1 to10."
   ]
  },
  {
   "cell_type": "code",
   "execution_count": 60,
   "id": "dc71cfb5-479a-432d-9896-4b1f4b36b057",
   "metadata": {},
   "outputs": [
    {
     "name": "stdout",
     "output_type": "stream",
     "text": [
      "0\n",
      "1\n",
      "2\n",
      "3\n",
      "4\n",
      "5\n",
      "6\n",
      "7\n",
      "8\n",
      "9\n",
      "10\n"
     ]
    }
   ],
   "source": [
    "for i in range(11):\n",
    "    print(i)"
   ]
  },
  {
   "cell_type": "code",
   "execution_count": null,
   "id": "d550b7c2-35d2-4c32-be02-ab94467ef60e",
   "metadata": {},
   "outputs": [],
   "source": [
    "Q13. write a python program to find the sum of all even numbers between 1 and 50."
   ]
  },
  {
   "cell_type": "code",
   "execution_count": null,
   "id": "08226ccf-c342-4841-92b7-b1f08b57de10",
   "metadata": {},
   "outputs": [],
   "source": [
    "ans."
   ]
  },
  {
   "cell_type": "code",
   "execution_count": null,
   "id": "331ccacc-5517-425f-897c-11c0915cfff9",
   "metadata": {},
   "outputs": [],
   "source": [
    "sum_even=sum(i for i in range(1,50)if i%2==0)\n",
    "\n",
    "print(\"sum of even numbers between 1 and 50:\", sum_even)"
   ]
  },
  {
   "cell_type": "code",
   "execution_count": null,
   "id": "508f9009-ea4c-4fd0-ab98-8effcadfc512",
   "metadata": {},
   "outputs": [],
   "source": [
    "Q14. write a program to reverse a string using a while loop."
   ]
  },
  {
   "cell_type": "code",
   "execution_count": null,
   "id": "0a651642-7743-4d44-8fc6-3d6572f5ee3b",
   "metadata": {},
   "outputs": [],
   "source": [
    "ans.\n",
    "def reverse_string(s):\n",
    "\n",
    "    reversed_s = \"\"\n",
    "\n",
    "i = len(s) -1 \n",
    "while i>= 0:\n",
    "    reversed_s +=s[i]\n",
    "    i-=1\n",
    "\n",
    "return reversed_s\n",
    "\n",
    "s= input(\"enter a string:\")\n",
    " print(\"reversed string:\",\n",
    "       reverse_string(s))"
   ]
  },
  {
   "cell_type": "code",
   "execution_count": null,
   "id": "92bd458d-552a-4846-9827-0d8ebaa72079",
   "metadata": {},
   "outputs": [],
   "source": [
    "Q15. write a python program to calculate the factorial of a number provided by the user a while loop."
   ]
  },
  {
   "cell_type": "code",
   "execution_count": null,
   "id": "c96129fe-8fba-4d7d-9bd8-d164589c5af3",
   "metadata": {},
   "outputs": [],
   "source": [
    "ans"
   ]
  },
  {
   "cell_type": "code",
   "execution_count": null,
   "id": "244f8094-5547-45f7-8d01-487d05c648b2",
   "metadata": {},
   "outputs": [],
   "source": [
    "def factorial(n):\n",
    "\n",
    "    fact = 1\n",
    "\n",
    "i  =  1 \n",
    "\n",
    "while  i  <= n:\n",
    "\n",
    "    fact  *= I \n",
    "\n",
    "i  += 1 \n",
    "\n",
    "return fact \n",
    "\n",
    "n = int(input(\"enter a number:\")\n",
    "\n",
    "        print (\" factorial of ,\"n,\"is\",\n",
    "               factorial(n))"
   ]
  }
 ],
 "metadata": {
  "kernelspec": {
   "display_name": "Python 3 (ipykernel)",
   "language": "python",
   "name": "python3"
  },
  "language_info": {
   "codemirror_mode": {
    "name": "ipython",
    "version": 3
   },
   "file_extension": ".py",
   "mimetype": "text/x-python",
   "name": "python",
   "nbconvert_exporter": "python",
   "pygments_lexer": "ipython3",
   "version": "3.12.7"
  }
 },
 "nbformat": 4,
 "nbformat_minor": 5
}
